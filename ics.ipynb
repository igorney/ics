{
 "cells": [
  {
   "cell_type": "code",
   "execution_count": 2,
   "metadata": {},
   "outputs": [],
   "source": [
    "from ics import Calendar, Event\n",
    "from datetime import datetime\n",
    "\n",
    "# Create a calendar\n",
    "cal = Calendar()\n",
    "\n",
    "# List of events\n",
    "events = [\n",
    "    {\"name\": \"Apresentação do curso\", \"begin\": \"2024-06-24\"},\n",
    "    {\"name\": \"Lei de Coulomb, Visão histórica, Campos elétricos, Propriedades de cargas elétricas, Linhas de campos elétricos, Movimento de partículas carregadas em um campo elétrico uniforme\", \"begin\": \"2024-06-26\"},\n",
    "    {\"name\": \"Fluxo elétrico\", \"begin\": \"2024-07-01\"},\n",
    "    {\"name\": \"Aplicação da lei de Gauss, Lei de Gauss, Condutores em equilíbrio eletrostático (Demonstração do Experimento 1 - não há relatório ou presença)\", \"begin\": \"2024-07-03\"},\n",
    "    {\"name\": \"FERIADO\", \"begin\": \"2024-07-08\"},\n",
    "    {\"name\": \"Potencial elétrico e diferença de potencial, Potencial elétrico e energia potencial gerados por cargas pontuais (Provinha 1 - de 19.1 até 19.11)\", \"begin\": \"2024-07-10\"},\n",
    "    {\"name\": \"Obtenção do valor do campo elétrico com base no potencial elétrico\", \"begin\": \"2024-07-15\"},\n",
    "    {\"name\": \"Capacitância, Potencial elétrico gerado por distribuições de cargas contínuas, Combinações de capacitores, Potencial elétrico gerado por um condutor carregado (Experimento 2/ semana I - Capacitor de placas paralelas)\", \"begin\": \"2024-07-17\"},\n",
    "    {\"name\": \"Energia armazenada em um capacitor carregado\", \"begin\": \"2024-07-22\"},\n",
    "    {\"name\": \"Corrente elétrica, Resistência e Lei de Ohm, Supercondutores, Um modelo de condução elétrica, Energia e potência nos circuitos elétricos (Experimento 2/ semana II - Capacitor de placas paralelas)\", \"begin\": \"2024-07-24\"},\n",
    "    {\"name\": \"Fontes de FEM\", \"begin\": \"2024-07-29\"},\n",
    "    {\"name\": \"Prova 1 (Conteúdo de 19.2 até 21.5), Resistores em série e em paralelo, Leis de Kirchhoff (Provinha 2 - de 20.1 até 20.10)\", \"begin\": \"2024-07-31\"},\n",
    "    {\"name\": \"Síntese histórica\", \"begin\": \"2024-08-05\"},\n",
    "    {\"name\": \"Aplicações de Partículas Carregadas se movendo em Campo Magnético, O campo magnético, Movimento de uma partícula carregada em um campo magnético uniforme, Força magnética em um condutor transportando corrente, Torque em uma espira percorrida por corrente em um campo magnético uniforme (Experimento 3/ semana II - Campo magnético de correntes elétricas)\", \"begin\": \"2024-08-07\"},\n",
    "    {\"name\": \"Lei de Biot–Savart\", \"begin\": \"2024-08-12\"},\n",
    "    {\"name\": \"Campo magnético em um solenóide, A força magnética entre dois condutores paralelos, Lei de Ampere, Magnetismo na matéria (Experimento 3/ semana I - Campo magnético de correntes elétricas)\", \"begin\": \"2024-08-14\"},\n",
    "    {\"name\": \"FERIADO\", \"begin\": \"2024-08-19\"},\n",
    "    {\"name\": \"Lei da indução de Faraday, FEM de movimento (Provinha 3 - de 21.1 até 22.11)\", \"begin\": \"2024-08-21\"},\n",
    "    {\"name\": \"Lei de Lenz\", \"begin\": \"2024-08-26\"},\n",
    "    {\"name\": \"Indutância, Forças eletromotrizes induzidas e campos elétricos (Experimento 4/ semana I - Indução eletromagnética)\", \"begin\": \"2024-08-28\"},\n",
    "    {\"name\": \"Energia armazenada em um campo magnético\", \"begin\": \"2024-09-02\"},\n",
    "    {\"name\": \"Provinha 4 - de 22.5 até 23.5, Corrente de deslocamento, Equações de Maxwell, Equação da onda eletromagnética (Experimento 4/ semana II - Indução eletromagnética)\", \"begin\": \"2024-09-04\"},\n",
    "    {\"name\": \"PROVA 2 (Conteúdo de 22.2 - O Campo Magnético até 23.7 - Energia armazenada em um campo magnético)\", \"begin\": \"2024-09-09\"},\n",
    "    {\"name\": \"Prova Substitutiva (Conteúdo de 19.1 até 23.7)\", \"begin\": \"2024-09-11\"},\n",
    "    {\"name\": \"Reposição de experimentos\", \"begin\": \"2024-09-16\"},\n",
    "    {\"name\": \"Reposição de experimentos\", \"begin\": \"2024-09-18\"},\n",
    "]\n",
    "\n",
    "# Create events\n",
    "for event in events:\n",
    "    e = Event()\n",
    "    e.name = event[\"name\"]\n",
    "    e.begin = event[\"begin\"]\n",
    "    cal.events.add(e)\n",
    "\n",
    "# Save to .ics file\n",
    "with open('cronograma_2024-2.ics', 'w') as f:\n",
    "    f.writelines(cal)"
   ]
  }
 ],
 "metadata": {
  "kernelspec": {
   "display_name": "Python 3",
   "language": "python",
   "name": "python3"
  },
  "language_info": {
   "codemirror_mode": {
    "name": "ipython",
    "version": 3
   },
   "file_extension": ".py",
   "mimetype": "text/x-python",
   "name": "python",
   "nbconvert_exporter": "python",
   "pygments_lexer": "ipython3",
   "version": "3.11.0"
  }
 },
 "nbformat": 4,
 "nbformat_minor": 2
}
